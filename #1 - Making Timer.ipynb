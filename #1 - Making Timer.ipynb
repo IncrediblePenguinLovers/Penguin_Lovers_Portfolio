{
 "cells": [
  {
   "cell_type": "code",
   "execution_count": 1,
   "id": "edbffdea",
   "metadata": {},
   "outputs": [],
   "source": [
    "import tkinter as tk\n",
    "\n",
    "def startTimer():\n",
    "  if (running):\n",
    "    global timer\n",
    "    timer += 1\n",
    "    timeText.configure(text = f'{timer/100:.2f} s')\n",
    "  window.after(10, startTimer)\n",
    "\n",
    "def start():\n",
    "  global running\n",
    "  running = True\n",
    "\n",
    "def stop():\n",
    "  global running\n",
    "  running = False\n",
    "\n",
    "def initial():\n",
    "  global running\n",
    "  running = False\n",
    "  global timer\n",
    "  timer = 0\n",
    "  timeText.configure(text = f'{timer/100:.2f} s')\n",
    "running = False\n",
    "\n",
    "window = tk.Tk()\n",
    "window.geometry('400x200')\n",
    "timer = 0\n",
    "                     \n",
    "timeText = tk.Label(window, text = '0', font = (\"Helveetica\", 80))\n",
    "timeText.pack()\n",
    "\n",
    "startButton = tk.Button(window, text = 'Start', bg='yellow', command=start)\n",
    "startButton.pack(fill=tk.BOTH)\n",
    "\n",
    "stopButton = tk.Button(window, text = 'Stop', bg='red', command=stop)\n",
    "stopButton.pack(fill=tk.BOTH)\n",
    "\n",
    "initialButton = tk.Button(window, text = 'initial', bg='green', command=initial)\n",
    "initialButton.pack(fill=tk.BOTH)\n",
    "\n",
    "startTimer()\n",
    "\n",
    "window.mainloop()"
   ]
  },
  {
   "cell_type": "code",
   "execution_count": null,
   "id": "2d43e8c7",
   "metadata": {},
   "outputs": [],
   "source": []
  }
 ],
 "metadata": {
  "kernelspec": {
   "display_name": "Python 3 (ipykernel)",
   "language": "python",
   "name": "python3"
  },
  "language_info": {
   "codemirror_mode": {
    "name": "ipython",
    "version": 3
   },
   "file_extension": ".py",
   "mimetype": "text/x-python",
   "name": "python",
   "nbconvert_exporter": "python",
   "pygments_lexer": "ipython3",
   "version": "3.9.13"
  }
 },
 "nbformat": 4,
 "nbformat_minor": 5
}
